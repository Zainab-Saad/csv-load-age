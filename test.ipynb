{
 "cells": [
  {
   "cell_type": "code",
   "execution_count": 49,
   "metadata": {},
   "outputs": [],
   "source": [
    "import age, load_age_to_csv as age_csv, load_csv_to_age as csv_age, importlib\n",
    "\n",
    "GRAPH_NAME = \"test_csv_load_age\"\n",
    "DSN = \"host=127.0.0.1 port=5432 dbname=postgres user=postgres password=12345\"\n",
    "# connect to postgreSQL database using AGE extension\n",
    "age_obj = age.Age()\n",
    "ag = age_obj.connect(graph=GRAPH_NAME, dsn= DSN)"
   ]
  },
  {
   "attachments": {},
   "cell_type": "markdown",
   "metadata": {},
   "source": [
    "Attempt # 1:\n",
    "\n",
    "Loading 4000 vertices and 2000 edges into csv took 12.3 s\n",
    "Loading 4000 vertices and 2000 edges from csv took 21.7 s\n",
    "\n",
    "Attempt # 2:\n",
    "\n",
    "Loading 4000 vertices and 2000 edges into csv took 11.2 s\n",
    "Loading 4000 vertices and 2000 edges from csv took 21.7 s\n",
    "\n",
    "Attempt # 3:\n",
    "\n",
    "Loading 4000 vertices and 2000 edges into csv took 12.5 s\n",
    "Loading 4000 vertices and 2000 edges from csv took 21.1 s\n",
    "\n",
    "Attempt # 4:\n",
    "\n",
    "Loading 8000 vertices and 4000 edges into csv took 23.8 s\n",
    "Loading 8000 vertices and 4000 edges from csv took 63.9 s\n",
    "\n",
    "Attempt # 5:\n",
    "\n",
    "Loading 8000 vertices and 4000 edges into csv took 22.7 s\n",
    "Loading 8000 vertices and 4000 edges from csv took 58.3 s\n",
    "\n",
    "Attempt # 6:\n",
    "\n",
    "Loading 8000 vertices and 4000 edges into csv took 22.1 s\n",
    "Loading 8000 vertices and 4000 edges from csv took 60 s\n",
    "\n",
    "**--> On avg Loading 8000 vertices and 4000 edges from csv took 60.73 s and into csv took 22.86 s**\n",
    "\n",
    "**--> On avg Loading 4000 vertices and 2000 edges from csv took 21.4 s and into csv took 11.85 s**"
   ]
  },
  {
   "cell_type": "code",
   "execution_count": 58,
   "metadata": {},
   "outputs": [],
   "source": [
    "ag.execCypher('MATCH (u) DETACH DELETE u')\n",
    "# create test nodes, edges here\n",
    "total_edges = 4000\n",
    "for i in range(total_edges):\n",
    "    str_i = str(i)\n",
    "    ag.execCypher('CREATE (n: VertexA {id: %s})-[e: EDGE {id: %s}]->(m: VertexB {id: %s})', params=(str_i, str_i, str_i))\n",
    "ag.commit()"
   ]
  },
  {
   "cell_type": "code",
   "execution_count": 51,
   "metadata": {},
   "outputs": [
    {
     "data": {
      "text/plain": [
       "<module 'load_csv_to_age' from '/home/zainab/csv-load-age/load_csv_to_age.py'>"
      ]
     },
     "execution_count": 51,
     "metadata": {},
     "output_type": "execute_result"
    }
   ],
   "source": [
    "importlib.reload(age_csv)\n",
    "importlib.reload(csv_age)"
   ]
  },
  {
   "cell_type": "code",
   "execution_count": 52,
   "metadata": {},
   "outputs": [],
   "source": [
    "age_csv.load_labels_into_file(ag, GRAPH_NAME)"
   ]
  },
  {
   "cell_type": "code",
   "execution_count": 53,
   "metadata": {},
   "outputs": [],
   "source": [
    "age_csv.load_edges_into_file(ag, GRAPH_NAME)"
   ]
  },
  {
   "cell_type": "code",
   "execution_count": 54,
   "metadata": {},
   "outputs": [
    {
     "data": {
      "text/plain": [
       "<cursor object at 0x7f1d61d3dc60; closed: 0>"
      ]
     },
     "execution_count": 54,
     "metadata": {},
     "output_type": "execute_result"
    }
   ],
   "source": [
    "ag.execCypher('MATCH (u) DETACH DELETE u')"
   ]
  },
  {
   "cell_type": "code",
   "execution_count": 55,
   "metadata": {},
   "outputs": [],
   "source": [
    "csv_age.load_labels_from_file(ag, './age_load/data/VertexA.csv', 'VertexA')"
   ]
  },
  {
   "cell_type": "code",
   "execution_count": 56,
   "metadata": {},
   "outputs": [],
   "source": [
    "csv_age.load_labels_from_file(ag, './age_load/data/VertexB.csv', 'VertexB')"
   ]
  },
  {
   "cell_type": "code",
   "execution_count": 57,
   "metadata": {},
   "outputs": [],
   "source": [
    "csv_age.load_edges_from_file(ag, './age_load/data/EDGE.csv', 'EDGE')"
   ]
  },
  {
   "cell_type": "code",
   "execution_count": 59,
   "metadata": {},
   "outputs": [],
   "source": [
    "ag.close()"
   ]
  }
 ],
 "metadata": {
  "kernelspec": {
   "display_name": "Python 3",
   "language": "python",
   "name": "python3"
  },
  "language_info": {
   "codemirror_mode": {
    "name": "ipython",
    "version": 3
   },
   "file_extension": ".py",
   "mimetype": "text/x-python",
   "name": "python",
   "nbconvert_exporter": "python",
   "pygments_lexer": "ipython3",
   "version": "3.10.6"
  },
  "orig_nbformat": 4
 },
 "nbformat": 4,
 "nbformat_minor": 2
}
