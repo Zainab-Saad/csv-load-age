{
 "cells": [
  {
   "cell_type": "code",
   "execution_count": 11,
   "metadata": {},
   "outputs": [],
   "source": [
    "import age, load_age_to_csv as age_csv, load_csv_to_age as csv_age, importlib\n",
    "\n",
    "GRAPH_NAME = \"test_csv_load_age\"\n",
    "DSN = \"host=127.0.0.1 port=5432 dbname=postgres user=postgres password=12345\"\n",
    "# connect to postgreSQL database using AGE extension\n",
    "age_obj = age.Age()\n",
    "ag = age_obj.connect(graph=GRAPH_NAME, dsn= DSN)"
   ]
  },
  {
   "cell_type": "code",
   "execution_count": 12,
   "metadata": {},
   "outputs": [],
   "source": [
    "ag.execCypher('MATCH (u) DETACH DELETE u')\n",
    "# create test nodes, edges here\n",
    "total_vertices = total_edges = 2000\n",
    "for i in range(total_vertices):\n",
    "    str_i = str(i)\n",
    "    ag.execCypher('CREATE (n: VertexA {id: %s})-[e: EDGE {id: %s}]->(m: VertexB {id: %s})', params=(str_i, str_i, str_i))\n",
    "ag.commit()"
   ]
  },
  {
   "cell_type": "code",
   "execution_count": 13,
   "metadata": {},
   "outputs": [
    {
     "data": {
      "text/plain": [
       "<module 'load_csv_to_age' from '/home/zainab/csv-load-age/load_csv_to_age.py'>"
      ]
     },
     "execution_count": 13,
     "metadata": {},
     "output_type": "execute_result"
    }
   ],
   "source": [
    "importlib.reload(age_csv)\n",
    "importlib.reload(csv_age)"
   ]
  },
  {
   "cell_type": "code",
   "execution_count": 14,
   "metadata": {},
   "outputs": [],
   "source": [
    "age_csv.load_labels_into_file(ag, GRAPH_NAME)"
   ]
  },
  {
   "cell_type": "code",
   "execution_count": 15,
   "metadata": {},
   "outputs": [],
   "source": [
    "age_csv.load_edges_into_file(ag, GRAPH_NAME)"
   ]
  },
  {
   "cell_type": "code",
   "execution_count": 16,
   "metadata": {},
   "outputs": [
    {
     "data": {
      "text/plain": [
       "<cursor object at 0x7ff5910ed4e0; closed: 0>"
      ]
     },
     "execution_count": 16,
     "metadata": {},
     "output_type": "execute_result"
    }
   ],
   "source": [
    "ag.execCypher('MATCH (u) DETACH DELETE u')"
   ]
  },
  {
   "cell_type": "code",
   "execution_count": 17,
   "metadata": {},
   "outputs": [],
   "source": [
    "csv_age.load_labels_from_file(ag, './age_load/data/VertexA.csv', 'VertexA')"
   ]
  },
  {
   "cell_type": "code",
   "execution_count": 18,
   "metadata": {},
   "outputs": [],
   "source": [
    "csv_age.load_labels_from_file(ag, './age_load/data/VertexB.csv', 'VertexB')"
   ]
  },
  {
   "cell_type": "code",
   "execution_count": 19,
   "metadata": {},
   "outputs": [],
   "source": [
    "csv_age.load_edges_from_file(ag, './age_load/data/EDGE.csv', 'EDGE')"
   ]
  },
  {
   "cell_type": "code",
   "execution_count": 20,
   "metadata": {},
   "outputs": [],
   "source": [
    "ag.close()"
   ]
  }
 ],
 "metadata": {
  "language_info": {
   "name": "python"
  },
  "orig_nbformat": 4
 },
 "nbformat": 4,
 "nbformat_minor": 2
}
